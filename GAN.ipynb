{
  "nbformat": 4,
  "nbformat_minor": 0,
  "metadata": {
    "colab": {
      "provenance": [],
      "gpuType": "T4",
      "authorship_tag": "ABX9TyNv8jGL+9GdmvtweutXKKGn",
      "include_colab_link": true
    },
    "kernelspec": {
      "name": "python3",
      "display_name": "Python 3"
    },
    "language_info": {
      "name": "python"
    },
    "accelerator": "GPU"
  },
  "cells": [
    {
      "cell_type": "markdown",
      "metadata": {
        "id": "view-in-github",
        "colab_type": "text"
      },
      "source": [
        "<a href=\"https://colab.research.google.com/github/soyoonjeong/computervision/blob/master/GAN.ipynb\" target=\"_parent\"><img src=\"https://colab.research.google.com/assets/colab-badge.svg\" alt=\"Open In Colab\"/></a>"
      ]
    },
    {
      "cell_type": "code",
      "execution_count": 12,
      "metadata": {
        "id": "RZJMasgp-5qS"
      },
      "outputs": [],
      "source": [
        "import torch\n",
        "import torch.nn as nn\n",
        "import numpy as np\n",
        "\n",
        "from torchvision import transforms\n",
        "from torchvision import datasets\n",
        "from torch.utils.data import DataLoader\n",
        "from torchvision.utils import save_image"
      ]
    },
    {
      "cell_type": "markdown",
      "source": [
        "# 데이터셋 불러오기"
      ],
      "metadata": {
        "id": "pM_ePoyCA-1g"
      }
    },
    {
      "cell_type": "code",
      "source": [
        "transform_data = transforms.Compose([\n",
        "        transforms.Resize(28),\n",
        "        transforms.ToTensor()\n",
        "    ])\n",
        "training_data = datasets.FashionMNIST(\n",
        "    root = 'data',\n",
        "    train = True,\n",
        "    download = True,\n",
        "    transform = transform_data\n",
        ")\n",
        "test_data = datasets.FashionMNIST(\n",
        "    root = 'data',\n",
        "    train = False,\n",
        "    download = True,\n",
        "    transform = transform_data\n",
        ")\n",
        "train_dataloader = DataLoader(training_data, batch_size = 128, shuffle = True, num_workers = 4)\n",
        "test_dataloader = DataLoader(test_data, batch_size = 128, shuffle = True, num_workers = 4)"
      ],
      "metadata": {
        "colab": {
          "base_uri": "https://localhost:8080/"
        },
        "id": "H4FTmVii_fqR",
        "outputId": "93437d0d-9bc5-40bc-956b-a170c3dded6a"
      },
      "execution_count": 7,
      "outputs": [
        {
          "output_type": "stream",
          "name": "stderr",
          "text": [
            "/usr/local/lib/python3.10/dist-packages/torch/utils/data/dataloader.py:560: UserWarning: This DataLoader will create 4 worker processes in total. Our suggested max number of worker in current system is 2, which is smaller than what this DataLoader is going to create. Please be aware that excessive worker creation might get DataLoader running slow or even freeze, lower the worker number to avoid potential slowness/freeze if necessary.\n",
            "  warnings.warn(_create_warning_msg(\n"
          ]
        }
      ]
    },
    {
      "cell_type": "markdown",
      "source": [
        "# GAN 모델 정의"
      ],
      "metadata": {
        "id": "fgEZ11hVBE39"
      }
    },
    {
      "cell_type": "markdown",
      "source": [
        "## 생성 모델 정의"
      ],
      "metadata": {
        "id": "heOYwiYQBJqY"
      }
    },
    {
      "cell_type": "code",
      "source": [
        "latent_dim = 100\n",
        "class Generator(nn.Module):\n",
        "  def __init__(self):\n",
        "    super(Generator, self).__init__()\n",
        "\n",
        "    self.model = nn.Sequential(\n",
        "        # 블록 1\n",
        "        nn.Linear(latent_dim, 128),\n",
        "        nn.LeakyReLU(0.2, inplace = True),\n",
        "        # 블록 2\n",
        "        nn.Linear(128, 256),\n",
        "        nn.BatchNorm1d(256, 0.8),\n",
        "        nn.LeakyReLU(0.2, inplace = True),\n",
        "        # 블록 3\n",
        "        nn.Linear(256, 512),\n",
        "        nn.BatchNorm1d(512, 0.8),\n",
        "        nn.LeakyReLU(0.2, inplace = True),\n",
        "        # 블록 4\n",
        "        nn.Linear(512, 1024),\n",
        "        nn.BatchNorm1d(1024, 0.8),\n",
        "        nn.LeakyReLU(0.2, inplace = True),\n",
        "\n",
        "        nn.Linear(1024, 1 * 28 * 28),\n",
        "        nn.Tanh() # 왜 계속 Leaky Relu하다가 마지막만 tanh??\n",
        "    )\n",
        "  def forward(self, z):\n",
        "    img = self.model(z)\n",
        "    img = img.view(img.size(0), 1, 28, 28) # 미니배치로 들어오나?\n",
        "    return img"
      ],
      "metadata": {
        "id": "a5VbXxDgBMju"
      },
      "execution_count": 8,
      "outputs": []
    },
    {
      "cell_type": "markdown",
      "source": [
        "## 판별 모델 정의"
      ],
      "metadata": {
        "id": "_ZY1m8CFCmyr"
      }
    },
    {
      "cell_type": "code",
      "source": [
        "class Discriminator(nn.Module):\n",
        "  def __init__(self):\n",
        "    super(Discriminator, self).__init__()\n",
        "\n",
        "    self.model = nn.Sequential(\n",
        "        nn.Linear(1*28*28, 512),\n",
        "        nn.LeakyReLU(0.2, inplace = True), # inplace = True : 입력 텐서 직접 수정하여 연산 속도 높힘\n",
        "        nn.Linear(512, 256),\n",
        "        nn.LeakyReLU(0.2, inplace = True),\n",
        "        nn.Linear(256, 1),\n",
        "        nn.Sigmoid(), # 0~1 사이로 출력\n",
        "    )\n",
        "  def forward(self, img):\n",
        "    flattened = img.view(img.size(0), -1)\n",
        "    output = self.model(flattened)\n",
        "\n",
        "    return output"
      ],
      "metadata": {
        "id": "uF7Q36e2Cp95"
      },
      "execution_count": 9,
      "outputs": []
    },
    {
      "cell_type": "markdown",
      "source": [
        "# 훈련"
      ],
      "metadata": {
        "id": "CtgJF9rjYcXN"
      }
    },
    {
      "cell_type": "code",
      "source": [
        "generator = Generator()\n",
        "discriminator = Discriminator()\n",
        "\n",
        "generator.cuda()\n",
        "discriminator.cuda()\n",
        "\n",
        "adversarial_loss = nn.BCELoss() # 이진 크로스 엔트로피\n",
        "adversarial_loss.cuda()\n",
        "\n",
        "lr = 0.0002\n",
        "\n",
        "optimizer_G = torch.optim.Adam(generator.parameters(), lr = lr, betas = (0.5, 0.999))\n",
        "optimizer_D = torch.optim.Adam(discriminator.parameters(), lr = lr, betas = (0.5, 0.999))"
      ],
      "metadata": {
        "id": "CqyY0deCF1AF"
      },
      "execution_count": 10,
      "outputs": []
    },
    {
      "cell_type": "code",
      "source": [
        "n_epochs = 200\n",
        "n_iter_D = 1\n",
        "sample_interval = 2000\n",
        "\n",
        "for epoch in range(n_epochs):\n",
        "  for i, (imgs, _) in enumerate(train_dataloader):\n",
        "    real = torch.cuda.FloatTensor(imgs.size(0), 1).fill_(1.0)\n",
        "    fake = torch.cuda.FloatTensor(imgs.size(0), 1).fill_(0.0)\n",
        "    real_imgs = imgs.cuda()\n",
        "\n",
        "    # 판별 모델 훈련(n_iter_D번)\n",
        "    for iter in range(n_iter_D):\n",
        "      optimizer_D.zero_grad()\n",
        "\n",
        "      z = torch.normal(mean = 0, std = 1, size= (imgs.shape[0], latent_dim)).cuda()\n",
        "      generated_imgs = generator(z)\n",
        "\n",
        "      real_loss = adversarial_loss(discriminator(real_imgs), real)\n",
        "      fake_loss = adversarial_loss(discriminator(generated_imgs.detach()), fake)\n",
        "      d_loss = (real_loss + fake_loss) / 2\n",
        "\n",
        "      d_loss.backward()\n",
        "      optimizer_D.step()\n",
        "\n",
        "    # 생성 모델 훈련 (1번)\n",
        "    optimizer_G.zero_grad()\n",
        "    z = torch.normal(mean = 0, std = 1, size= (imgs.shape[0], latent_dim)).cuda()\n",
        "    generated_imgs = generator(z)\n",
        "\n",
        "    g_loss = adversarial_loss(discriminator(generated_imgs), real)\n",
        "\n",
        "    g_loss.backward()\n",
        "    optimizer_G.step()\n",
        "\n",
        "    #\n",
        "    done = epoch * len(train_dataloader) + i\n",
        "    if done % sample_interval == 0:\n",
        "        save_image(generated_imgs.data[:25], f\"{done}.png\", nrow = 5, normalize = True)\n",
        "\n",
        "  print(f\"[Epoch {epoch}/{n_epochs}] [D_loss : {d_loss.item():.6f}] [G_loss : {g_loss.item():.6f}]\")"
      ],
      "metadata": {
        "colab": {
          "base_uri": "https://localhost:8080/"
        },
        "id": "6ZG4U-rhIMPe",
        "outputId": "94b885a9-fb5c-48f8-dc5a-cb83f603c0c6"
      },
      "execution_count": 13,
      "outputs": [
        {
          "metadata": {
            "tags": null
          },
          "name": "stderr",
          "output_type": "stream",
          "text": [
            "/usr/local/lib/python3.10/dist-packages/torch/utils/data/dataloader.py:560: UserWarning: This DataLoader will create 4 worker processes in total. Our suggested max number of worker in current system is 2, which is smaller than what this DataLoader is going to create. Please be aware that excessive worker creation might get DataLoader running slow or even freeze, lower the worker number to avoid potential slowness/freeze if necessary.\n",
            "  warnings.warn(_create_warning_msg(\n"
          ]
        },
        {
          "output_type": "stream",
          "name": "stdout",
          "text": [
            "[Epoch 0/200] [D_loss : 0.730373] [G_loss : 0.856183]\n",
            "[Epoch 1/200] [D_loss : 0.650745] [G_loss : 1.269072]\n",
            "[Epoch 2/200] [D_loss : 0.648036] [G_loss : 0.868366]\n",
            "[Epoch 3/200] [D_loss : 0.648324] [G_loss : 0.831827]\n",
            "[Epoch 4/200] [D_loss : 0.661978] [G_loss : 0.948425]\n",
            "[Epoch 5/200] [D_loss : 0.643781] [G_loss : 0.879646]\n",
            "[Epoch 6/200] [D_loss : 0.613606] [G_loss : 0.909540]\n",
            "[Epoch 7/200] [D_loss : 0.611582] [G_loss : 0.895950]\n",
            "[Epoch 8/200] [D_loss : 0.618647] [G_loss : 0.934059]\n",
            "[Epoch 9/200] [D_loss : 0.627293] [G_loss : 0.932360]\n",
            "[Epoch 10/200] [D_loss : 0.690554] [G_loss : 0.825459]\n",
            "[Epoch 11/200] [D_loss : 0.603292] [G_loss : 1.114502]\n",
            "[Epoch 12/200] [D_loss : 0.688361] [G_loss : 0.983554]\n",
            "[Epoch 13/200] [D_loss : 0.670961] [G_loss : 1.028868]\n",
            "[Epoch 14/200] [D_loss : 0.614244] [G_loss : 1.038047]\n",
            "[Epoch 15/200] [D_loss : 0.607939] [G_loss : 1.118557]\n",
            "[Epoch 16/200] [D_loss : 0.566023] [G_loss : 0.871614]\n",
            "[Epoch 17/200] [D_loss : 0.576059] [G_loss : 1.105163]\n",
            "[Epoch 18/200] [D_loss : 0.623726] [G_loss : 0.903670]\n",
            "[Epoch 19/200] [D_loss : 0.602892] [G_loss : 0.877695]\n",
            "[Epoch 20/200] [D_loss : 0.603058] [G_loss : 0.948139]\n",
            "[Epoch 21/200] [D_loss : 0.616324] [G_loss : 0.834327]\n",
            "[Epoch 22/200] [D_loss : 0.644133] [G_loss : 0.655853]\n",
            "[Epoch 23/200] [D_loss : 0.637971] [G_loss : 0.783266]\n",
            "[Epoch 24/200] [D_loss : 0.591217] [G_loss : 0.855723]\n",
            "[Epoch 25/200] [D_loss : 0.602904] [G_loss : 1.094217]\n",
            "[Epoch 26/200] [D_loss : 0.630566] [G_loss : 0.712624]\n",
            "[Epoch 27/200] [D_loss : 0.605410] [G_loss : 1.016054]\n",
            "[Epoch 28/200] [D_loss : 0.603055] [G_loss : 1.015058]\n",
            "[Epoch 29/200] [D_loss : 0.633329] [G_loss : 0.935805]\n",
            "[Epoch 30/200] [D_loss : 0.619734] [G_loss : 1.062059]\n",
            "[Epoch 31/200] [D_loss : 0.614009] [G_loss : 0.828249]\n",
            "[Epoch 32/200] [D_loss : 0.603771] [G_loss : 0.907875]\n",
            "[Epoch 33/200] [D_loss : 0.593559] [G_loss : 0.929125]\n",
            "[Epoch 34/200] [D_loss : 0.585765] [G_loss : 1.269680]\n",
            "[Epoch 35/200] [D_loss : 0.612259] [G_loss : 1.018530]\n",
            "[Epoch 36/200] [D_loss : 0.622498] [G_loss : 0.641931]\n",
            "[Epoch 37/200] [D_loss : 0.519145] [G_loss : 0.854227]\n",
            "[Epoch 38/200] [D_loss : 0.551541] [G_loss : 0.893427]\n",
            "[Epoch 39/200] [D_loss : 0.582125] [G_loss : 1.441181]\n",
            "[Epoch 40/200] [D_loss : 0.601506] [G_loss : 0.828914]\n",
            "[Epoch 41/200] [D_loss : 0.616691] [G_loss : 1.224509]\n",
            "[Epoch 42/200] [D_loss : 0.574302] [G_loss : 1.001646]\n",
            "[Epoch 43/200] [D_loss : 0.606976] [G_loss : 0.712003]\n",
            "[Epoch 44/200] [D_loss : 0.597491] [G_loss : 1.121304]\n",
            "[Epoch 45/200] [D_loss : 0.586409] [G_loss : 1.249264]\n",
            "[Epoch 46/200] [D_loss : 0.556668] [G_loss : 0.977573]\n",
            "[Epoch 47/200] [D_loss : 0.576753] [G_loss : 1.027894]\n",
            "[Epoch 48/200] [D_loss : 0.604873] [G_loss : 0.870000]\n",
            "[Epoch 49/200] [D_loss : 0.568601] [G_loss : 0.874827]\n",
            "[Epoch 50/200] [D_loss : 0.583112] [G_loss : 1.339223]\n",
            "[Epoch 51/200] [D_loss : 0.544754] [G_loss : 1.416658]\n",
            "[Epoch 52/200] [D_loss : 0.556691] [G_loss : 1.224854]\n",
            "[Epoch 53/200] [D_loss : 0.628952] [G_loss : 1.432811]\n",
            "[Epoch 54/200] [D_loss : 0.584548] [G_loss : 0.856272]\n",
            "[Epoch 55/200] [D_loss : 0.590800] [G_loss : 0.653780]\n",
            "[Epoch 56/200] [D_loss : 0.577603] [G_loss : 1.025869]\n",
            "[Epoch 57/200] [D_loss : 0.533865] [G_loss : 1.067381]\n",
            "[Epoch 58/200] [D_loss : 0.583125] [G_loss : 1.220582]\n",
            "[Epoch 59/200] [D_loss : 0.585949] [G_loss : 0.713280]\n",
            "[Epoch 60/200] [D_loss : 0.564982] [G_loss : 1.230735]\n",
            "[Epoch 61/200] [D_loss : 0.596324] [G_loss : 0.749626]\n",
            "[Epoch 62/200] [D_loss : 0.540125] [G_loss : 1.178503]\n",
            "[Epoch 63/200] [D_loss : 0.486709] [G_loss : 1.239863]\n",
            "[Epoch 64/200] [D_loss : 0.582165] [G_loss : 0.830575]\n",
            "[Epoch 65/200] [D_loss : 0.590693] [G_loss : 0.934060]\n",
            "[Epoch 66/200] [D_loss : 0.515134] [G_loss : 1.344508]\n",
            "[Epoch 67/200] [D_loss : 0.543138] [G_loss : 0.911637]\n",
            "[Epoch 68/200] [D_loss : 0.697102] [G_loss : 1.480823]\n",
            "[Epoch 69/200] [D_loss : 0.557191] [G_loss : 0.877373]\n",
            "[Epoch 70/200] [D_loss : 0.654491] [G_loss : 1.336210]\n",
            "[Epoch 71/200] [D_loss : 0.573908] [G_loss : 1.119221]\n",
            "[Epoch 72/200] [D_loss : 0.521423] [G_loss : 1.001012]\n",
            "[Epoch 73/200] [D_loss : 0.530549] [G_loss : 0.776335]\n",
            "[Epoch 74/200] [D_loss : 0.527695] [G_loss : 0.953170]\n",
            "[Epoch 75/200] [D_loss : 0.572966] [G_loss : 0.893237]\n",
            "[Epoch 76/200] [D_loss : 0.538513] [G_loss : 1.012379]\n",
            "[Epoch 77/200] [D_loss : 0.530862] [G_loss : 0.858801]\n",
            "[Epoch 78/200] [D_loss : 0.502469] [G_loss : 0.992654]\n",
            "[Epoch 79/200] [D_loss : 0.526024] [G_loss : 1.272316]\n",
            "[Epoch 80/200] [D_loss : 0.521702] [G_loss : 1.198244]\n",
            "[Epoch 81/200] [D_loss : 0.489127] [G_loss : 1.238565]\n",
            "[Epoch 82/200] [D_loss : 0.528676] [G_loss : 0.959816]\n",
            "[Epoch 83/200] [D_loss : 0.504097] [G_loss : 1.168031]\n",
            "[Epoch 84/200] [D_loss : 0.622231] [G_loss : 1.767059]\n",
            "[Epoch 85/200] [D_loss : 0.503124] [G_loss : 1.478517]\n",
            "[Epoch 86/200] [D_loss : 0.529198] [G_loss : 0.900006]\n",
            "[Epoch 87/200] [D_loss : 0.530139] [G_loss : 0.903173]\n",
            "[Epoch 88/200] [D_loss : 0.467867] [G_loss : 1.085055]\n",
            "[Epoch 89/200] [D_loss : 0.528041] [G_loss : 1.187964]\n",
            "[Epoch 90/200] [D_loss : 0.515455] [G_loss : 0.937913]\n",
            "[Epoch 91/200] [D_loss : 0.672093] [G_loss : 1.930985]\n",
            "[Epoch 92/200] [D_loss : 0.528605] [G_loss : 0.767217]\n",
            "[Epoch 93/200] [D_loss : 0.481821] [G_loss : 1.580624]\n",
            "[Epoch 94/200] [D_loss : 0.517439] [G_loss : 1.341561]\n",
            "[Epoch 95/200] [D_loss : 0.521509] [G_loss : 1.223325]\n",
            "[Epoch 96/200] [D_loss : 0.568557] [G_loss : 0.656950]\n",
            "[Epoch 97/200] [D_loss : 0.615557] [G_loss : 1.965743]\n",
            "[Epoch 98/200] [D_loss : 0.550763] [G_loss : 1.639137]\n",
            "[Epoch 99/200] [D_loss : 0.480028] [G_loss : 1.194708]\n",
            "[Epoch 100/200] [D_loss : 0.586870] [G_loss : 0.670378]\n",
            "[Epoch 101/200] [D_loss : 0.491145] [G_loss : 1.525441]\n",
            "[Epoch 102/200] [D_loss : 0.569822] [G_loss : 1.826583]\n",
            "[Epoch 103/200] [D_loss : 0.517427] [G_loss : 0.934299]\n",
            "[Epoch 104/200] [D_loss : 0.553855] [G_loss : 0.523529]\n",
            "[Epoch 105/200] [D_loss : 0.473434] [G_loss : 1.127319]\n",
            "[Epoch 106/200] [D_loss : 0.569447] [G_loss : 0.691815]\n",
            "[Epoch 107/200] [D_loss : 0.512393] [G_loss : 1.156437]\n",
            "[Epoch 108/200] [D_loss : 0.535532] [G_loss : 1.031368]\n",
            "[Epoch 109/200] [D_loss : 0.618804] [G_loss : 0.582019]\n",
            "[Epoch 110/200] [D_loss : 0.514147] [G_loss : 1.794326]\n",
            "[Epoch 111/200] [D_loss : 0.584681] [G_loss : 0.726230]\n",
            "[Epoch 112/200] [D_loss : 0.434454] [G_loss : 1.017738]\n",
            "[Epoch 113/200] [D_loss : 0.476729] [G_loss : 1.466224]\n",
            "[Epoch 114/200] [D_loss : 0.555025] [G_loss : 0.934061]\n",
            "[Epoch 115/200] [D_loss : 0.476869] [G_loss : 1.632701]\n",
            "[Epoch 116/200] [D_loss : 0.569641] [G_loss : 0.907098]\n",
            "[Epoch 117/200] [D_loss : 0.514573] [G_loss : 1.743547]\n",
            "[Epoch 118/200] [D_loss : 0.449275] [G_loss : 0.815655]\n",
            "[Epoch 119/200] [D_loss : 0.473557] [G_loss : 1.422827]\n",
            "[Epoch 120/200] [D_loss : 0.506576] [G_loss : 0.771509]\n",
            "[Epoch 121/200] [D_loss : 0.592511] [G_loss : 2.169140]\n",
            "[Epoch 122/200] [D_loss : 0.549944] [G_loss : 0.649828]\n",
            "[Epoch 123/200] [D_loss : 0.509933] [G_loss : 0.837047]\n",
            "[Epoch 124/200] [D_loss : 0.460799] [G_loss : 1.265592]\n",
            "[Epoch 125/200] [D_loss : 0.453706] [G_loss : 0.973947]\n",
            "[Epoch 126/200] [D_loss : 0.478512] [G_loss : 1.301740]\n",
            "[Epoch 127/200] [D_loss : 0.490692] [G_loss : 0.792672]\n",
            "[Epoch 128/200] [D_loss : 0.413880] [G_loss : 1.036507]\n",
            "[Epoch 129/200] [D_loss : 0.444596] [G_loss : 1.629827]\n",
            "[Epoch 130/200] [D_loss : 0.467985] [G_loss : 0.971285]\n",
            "[Epoch 131/200] [D_loss : 0.489300] [G_loss : 1.345577]\n",
            "[Epoch 132/200] [D_loss : 0.483548] [G_loss : 1.273686]\n",
            "[Epoch 133/200] [D_loss : 0.520366] [G_loss : 0.778575]\n",
            "[Epoch 134/200] [D_loss : 0.497312] [G_loss : 1.356163]\n",
            "[Epoch 135/200] [D_loss : 0.493410] [G_loss : 0.868873]\n",
            "[Epoch 136/200] [D_loss : 0.437778] [G_loss : 1.286947]\n",
            "[Epoch 137/200] [D_loss : 0.513193] [G_loss : 0.651481]\n",
            "[Epoch 138/200] [D_loss : 0.415774] [G_loss : 1.224376]\n",
            "[Epoch 139/200] [D_loss : 0.459676] [G_loss : 1.656923]\n",
            "[Epoch 140/200] [D_loss : 0.466040] [G_loss : 1.142256]\n",
            "[Epoch 141/200] [D_loss : 0.422926] [G_loss : 1.352573]\n",
            "[Epoch 142/200] [D_loss : 0.462000] [G_loss : 1.261969]\n",
            "[Epoch 143/200] [D_loss : 0.442599] [G_loss : 1.478301]\n",
            "[Epoch 144/200] [D_loss : 0.429220] [G_loss : 1.383495]\n",
            "[Epoch 145/200] [D_loss : 0.418886] [G_loss : 1.852263]\n",
            "[Epoch 146/200] [D_loss : 0.574298] [G_loss : 0.779998]\n",
            "[Epoch 147/200] [D_loss : 0.493621] [G_loss : 0.944482]\n",
            "[Epoch 148/200] [D_loss : 0.562975] [G_loss : 0.886811]\n",
            "[Epoch 149/200] [D_loss : 0.423180] [G_loss : 1.601176]\n",
            "[Epoch 150/200] [D_loss : 0.520923] [G_loss : 0.860433]\n",
            "[Epoch 151/200] [D_loss : 0.578689] [G_loss : 1.059361]\n",
            "[Epoch 152/200] [D_loss : 0.500219] [G_loss : 1.823301]\n",
            "[Epoch 153/200] [D_loss : 0.480267] [G_loss : 1.107828]\n",
            "[Epoch 154/200] [D_loss : 0.464547] [G_loss : 1.881557]\n",
            "[Epoch 155/200] [D_loss : 0.488357] [G_loss : 2.039513]\n",
            "[Epoch 156/200] [D_loss : 0.485114] [G_loss : 0.930169]\n",
            "[Epoch 157/200] [D_loss : 0.435491] [G_loss : 1.400824]\n",
            "[Epoch 158/200] [D_loss : 0.535013] [G_loss : 1.886325]\n",
            "[Epoch 159/200] [D_loss : 0.455577] [G_loss : 1.139870]\n",
            "[Epoch 160/200] [D_loss : 0.443995] [G_loss : 1.790634]\n",
            "[Epoch 161/200] [D_loss : 0.509779] [G_loss : 0.636510]\n",
            "[Epoch 162/200] [D_loss : 0.434817] [G_loss : 1.057178]\n",
            "[Epoch 163/200] [D_loss : 0.440532] [G_loss : 0.929541]\n",
            "[Epoch 164/200] [D_loss : 0.465967] [G_loss : 1.157312]\n",
            "[Epoch 165/200] [D_loss : 0.438815] [G_loss : 1.649170]\n",
            "[Epoch 166/200] [D_loss : 0.444533] [G_loss : 1.513946]\n",
            "[Epoch 167/200] [D_loss : 0.529832] [G_loss : 0.892613]\n",
            "[Epoch 168/200] [D_loss : 0.366615] [G_loss : 1.267350]\n",
            "[Epoch 169/200] [D_loss : 0.513402] [G_loss : 0.770407]\n",
            "[Epoch 170/200] [D_loss : 0.535534] [G_loss : 1.051533]\n",
            "[Epoch 171/200] [D_loss : 0.413798] [G_loss : 1.385238]\n",
            "[Epoch 172/200] [D_loss : 0.388190] [G_loss : 1.100969]\n",
            "[Epoch 173/200] [D_loss : 0.398778] [G_loss : 1.438604]\n",
            "[Epoch 174/200] [D_loss : 0.441728] [G_loss : 1.894693]\n",
            "[Epoch 175/200] [D_loss : 0.445170] [G_loss : 0.772649]\n",
            "[Epoch 176/200] [D_loss : 0.520605] [G_loss : 0.650707]\n",
            "[Epoch 177/200] [D_loss : 0.436028] [G_loss : 0.983804]\n",
            "[Epoch 178/200] [D_loss : 0.429913] [G_loss : 1.430747]\n",
            "[Epoch 179/200] [D_loss : 0.410502] [G_loss : 1.379032]\n",
            "[Epoch 180/200] [D_loss : 0.463660] [G_loss : 1.815118]\n",
            "[Epoch 181/200] [D_loss : 0.443385] [G_loss : 1.163518]\n",
            "[Epoch 182/200] [D_loss : 0.374957] [G_loss : 1.889182]\n",
            "[Epoch 183/200] [D_loss : 0.364434] [G_loss : 1.945093]\n",
            "[Epoch 184/200] [D_loss : 0.512719] [G_loss : 2.329476]\n",
            "[Epoch 185/200] [D_loss : 0.430405] [G_loss : 1.059998]\n",
            "[Epoch 186/200] [D_loss : 0.366084] [G_loss : 0.930194]\n",
            "[Epoch 187/200] [D_loss : 0.545497] [G_loss : 1.900232]\n",
            "[Epoch 188/200] [D_loss : 0.408145] [G_loss : 1.341057]\n",
            "[Epoch 189/200] [D_loss : 0.422276] [G_loss : 1.659806]\n",
            "[Epoch 190/200] [D_loss : 0.377412] [G_loss : 1.311805]\n",
            "[Epoch 191/200] [D_loss : 0.476654] [G_loss : 1.596243]\n",
            "[Epoch 192/200] [D_loss : 0.413910] [G_loss : 1.846443]\n",
            "[Epoch 193/200] [D_loss : 0.412997] [G_loss : 1.281026]\n",
            "[Epoch 194/200] [D_loss : 0.487305] [G_loss : 0.629185]\n",
            "[Epoch 195/200] [D_loss : 0.526619] [G_loss : 0.785787]\n",
            "[Epoch 196/200] [D_loss : 0.514528] [G_loss : 2.417474]\n",
            "[Epoch 197/200] [D_loss : 0.617363] [G_loss : 0.803817]\n",
            "[Epoch 198/200] [D_loss : 0.444214] [G_loss : 2.059587]\n",
            "[Epoch 199/200] [D_loss : 0.416150] [G_loss : 1.767441]\n"
          ]
        }
      ]
    },
    {
      "cell_type": "code",
      "source": [
        "from IPython.display import Image\n",
        "\n",
        "Image('92000.png')"
      ],
      "metadata": {
        "colab": {
          "base_uri": "https://localhost:8080/",
          "height": 169
        },
        "id": "Acg0EY6FbTBg",
        "outputId": "0f0ab20d-1081-4f99-db5c-281204dec4cc"
      },
      "execution_count": 18,
      "outputs": [
        {
          "output_type": "execute_result",
          "data": {
            "image/png": "[encoded data removed]",
            "text/plain": [
              "<IPython.core.display.Image object>"
            ]
          },
          "metadata": {},
          "execution_count": 18
        }
      ]
    }
  ]
}